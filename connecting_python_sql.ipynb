{
 "cells": [
  {
   "cell_type": "code",
   "execution_count": 17,
   "metadata": {},
   "outputs": [],
   "source": [
    "# https://github.com/data-bootcamp-v4/lab-sql-python-connection \n",
    "# LAB | Connecting Python to SQL\n"
   ]
  },
  {
   "cell_type": "markdown",
   "metadata": {},
   "source": [
    "Establish a connection between Python and the Sakila database."
   ]
  },
  {
   "cell_type": "code",
   "execution_count": null,
   "metadata": {},
   "outputs": [],
   "source": [
    "# Switch to SQLAlchemy, because of UserWarning: \n",
    "from sqlalchemy import create_engine\n",
    "\n",
    "# Database connection settings\n",
    "host = \"localhost\"  # host\n",
    "user = \"root\"  #  MySQL username\n",
    "password = \"Malcomx1\"  #  MySQL password\n",
    "database = \"sakila\"  #  database name\n",
    "\n",
    "\n",
    "# creates a SQLAlchemy engine, which serves as the entry point for interacting with the database\n",
    "engine = create_engine(f\"mysql+mysqlconnector://{user}:{password}@{host}/{database}\")\n",
    "\n",
    "print(f\"Connected to the {database} database successfully!\")"
   ]
  },
  {
   "cell_type": "markdown",
   "metadata": {},
   "source": [
    "Write a Python function called rentals_month that retrieves rental data for a given month and year (passed as parameters) from the Sakila database as a Pandas DataFrame. The function should take in three parameters:\n",
    "\n",
    "engine: an object representing the database connection engine to be used to establish a connection to the Sakila database.\n",
    "month: an integer representing the month for which rental data is to be retrieved.\n",
    "year: an integer representing the year for which rental data is to be retrieved.\n",
    "The function should execute a SQL query to retrieve the rental data for the specified month and year from the rental table in the Sakila database, and return it as a pandas DataFrame."
   ]
  },
  {
   "cell_type": "code",
   "execution_count": 19,
   "metadata": {},
   "outputs": [],
   "source": [
    "import pandas as pd\n",
    "from sqlalchemy.engine import Engine\n",
    "from sqlalchemy.sql import text\n",
    "\n",
    "def rentals_month(engine: Engine, month: int, year: int) -> pd.DataFrame:\n",
    "    \"\"\"\n",
    "    Retrieves rental data for a specified month and year from the Sakila database.\n",
    "\n",
    "    Parameters:\n",
    "        engine (Engine): SQLAlchemy engine object.\n",
    "        month (int): The month for which rental data is to be retrieved.\n",
    "        year (int): The year for which rental data is to be retrieved.\n",
    "\n",
    "    Returns:\n",
    "        pd.DataFrame: DataFrame containing the rental data for the specified month and year.\n",
    "    \"\"\"\n",
    "    # Use text() for compatibility\n",
    "    query = text(\"\"\"\n",
    "    SELECT *\n",
    "    FROM rental\n",
    "    WHERE MONTH(rental_date) = :month AND YEAR(rental_date) = :year\n",
    "    \"\"\")\n",
    "\n",
    "    # Execute the query\n",
    "    with engine.connect() as connection:\n",
    "        rentals_df = pd.read_sql_query(sql=query, con=connection, params={\"month\": month, \"year\": year})\n",
    "\n",
    "    return rentals_df\n"
   ]
  },
  {
   "cell_type": "code",
   "execution_count": null,
   "metadata": {},
   "outputs": [],
   "source": [
    "from sqlalchemy.engine import Engine\n",
    "from typing import Tuple\n",
    "from sqlalchemy.sql import text\n",
    "\n",
    "def get_date_range(engine: Engine) -> Tuple[str, str]:\n",
    "    \"\"\"\n",
    "    Determines the range of dates in the rental table of the Sakila database.\n",
    "\n",
    "    Parameters:\n",
    "        engine (Engine): SQLAlchemy engine object.\n",
    "\n",
    "    Returns:\n",
    "        Tuple[str, str]: A tuple containing the earliest and latest rental dates (earliest_date, latest_date) as strings.\n",
    "    \"\"\"\n",
    "    query = text(\"\"\"\n",
    "    SELECT MIN(rental_date) AS earliest_date, MAX(rental_date) AS latest_date\n",
    "    FROM rental\n",
    "    \"\"\")\n",
    "\n",
    "    with engine.connect() as connection:\n",
    "        result = connection.execute(query).fetchone()\n",
    "\n",
    "    # access tuple index\n",
    "    return result[0], result[1]\n",
    "\n",
    "earliest_date, latest_date = get_date_range(engine)\n",
    "print(f\"The rental data ranges from {earliest_date} to {latest_date}.\")\n"
   ]
  },
  {
   "cell_type": "code",
   "execution_count": null,
   "metadata": {},
   "outputs": [],
   "source": [
    "# Retrieve rentals for July 2005\n",
    "rentals_jul_2005 = rentals_month(engine, 7, 2005)\n",
    "\n",
    "# Display the resulting DataFrame\n",
    "print(rentals_jul_2005)\n",
    "\n",
    "# Retrieve rentals for August 2005\n",
    "rentals_aug_2005 = rentals_month(engine, 8, 2005)\n",
    "\n",
    "# Display the resulting DataFrame\n",
    "print(rentals_aug_2005)"
   ]
  },
  {
   "cell_type": "markdown",
   "metadata": {},
   "source": [
    "Develop a Python function called rental_count_month that takes the DataFrame provided by rentals_month as input along with the month and year and returns a new DataFrame containing the number of rentals made by each customer_id during the selected month and year.\n",
    "\n",
    "The function should also include the month and year as parameters and use them to name the new column according to the month and year, for example, if the input month is 05 and the year is 2005, the column name should be \"rentals_05_2005\".\n",
    "\n",
    "Hint: Consider making use of pandas groupby()"
   ]
  },
  {
   "cell_type": "code",
   "execution_count": 27,
   "metadata": {},
   "outputs": [
    {
     "name": "stdout",
     "output_type": "stream",
     "text": [
      "Object `parameters` not found.\n",
      "     customer_id  rentals_07_2005\n",
      "0              1               12\n",
      "1              2               14\n",
      "2              3               13\n",
      "3              4                5\n",
      "4              5               16\n",
      "..           ...              ...\n",
      "594          595               19\n",
      "595          596                6\n",
      "596          597                7\n",
      "597          598               16\n",
      "598          599                7\n",
      "\n",
      "[599 rows x 2 columns]\n"
     ]
    }
   ],
   "source": [
    "# Note: I noticed a potential inconsistency in the questions regarding the rental_count_month function.\n",
    "# If the rentals_month function already returns data for a specific month and year, why does rental_count_month\n",
    "# need to take month and year as additional inputs? It seems redundant since the input DataFrame from rentals_month \n",
    "# would already be filtered for the specified time period.\n",
    "\n",
    "# I believe rental_count_month could simply take the filtered DataFrame as input and dynamically infer \n",
    "# the column name based on the month and year within the data. \n",
    "\n",
    "\n",
    "import pandas as pd\n",
    "\n",
    "def rental_count_month(rentals_df: pd.DataFrame, month: int, year: int) -> pd.DataFrame:\n",
    "    \"\"\"\n",
    "    Counts the number of rentals made by each customer_id during the selected month and year.\n",
    "\n",
    "    Parameters:\n",
    "        rentals_df (pd.DataFrame): DataFrame containing rental data for a specific month and year.\n",
    "        month (int): The month for which rental data is being analyzed (used for column naming).\n",
    "        year (int): The year for which rental data is being analyzed (used for column naming).\n",
    "\n",
    "    Returns:\n",
    "        pd.DataFrame: DataFrame containing customer_id and their rental counts with a dynamically named column.\n",
    "    \"\"\"\n",
    "    column_name = f\"rentals_{str(month).zfill(2)}_{year}\"\n",
    "\n",
    "    # Group by customer_id and count the number of rentals\n",
    "    rental_counts = rentals_df.groupby('customer_id').size().reset_index(name=column_name)\n",
    "\n",
    "    return rental_counts\n",
    "\n",
    "\n",
    "rental_counts_month_jul_2005_df = rental_count_month(rentals_jul_2005, 7, 2005)\n",
    "print(rental_counts_month_jul_2005_df)\n"
   ]
  },
  {
   "cell_type": "code",
   "execution_count": 28,
   "metadata": {},
   "outputs": [
    {
     "name": "stdout",
     "output_type": "stream",
     "text": [
      "     customer_id  rentals_07_2005  rentals_08_2005  difference\n",
      "0              1               12               11           1\n",
      "1              2               14               11           3\n",
      "2              3               13                7           6\n",
      "3              4                5               11          -6\n",
      "4              5               16               13           3\n",
      "..           ...              ...              ...         ...\n",
      "594          595               19                8          11\n",
      "595          596                6               13          -7\n",
      "596          597                7               12          -5\n",
      "597          598               16                5          11\n",
      "598          599                7                7           0\n",
      "\n",
      "[599 rows x 4 columns]\n"
     ]
    }
   ],
   "source": [
    "import pandas as pd\n",
    "\n",
    "def compare_rentals(df1: pd.DataFrame, df2: pd.DataFrame) -> pd.DataFrame:\n",
    "    \"\"\"\n",
    "    Compares the number of rentals made by each customer in two different months\n",
    "    and returns a combined DataFrame with a 'difference' column.\n",
    "\n",
    "    Parameters:\n",
    "        df1 (pd.DataFrame): DataFrame containing rental counts for the first month/year.\n",
    "        df2 (pd.DataFrame): DataFrame containing rental counts for the second month/year.\n",
    "\n",
    "    Returns:\n",
    "        pd.DataFrame: A combined DataFrame with columns from both inputs and a 'difference' column.\n",
    "    \"\"\"\n",
    "    # merge the two DataFrames on 'customer_id', filling missing values with 0\n",
    "    combined_df = pd.merge(df1, df2, on='customer_id', how='outer', suffixes=('_month1', '_month2')).fillna(0)\n",
    "    \n",
    "    # calculate the difference between the two months\n",
    "    rental_columns = [col for col in combined_df.columns if col.startswith('rentals_')]\n",
    "    combined_df['difference'] = combined_df[rental_columns[0]] - combined_df[rental_columns[1]]\n",
    "    \n",
    "    return combined_df\n",
    "\n",
    "\n",
    "rentals_jul_2005 = rentals_month(engine, 7, 2005)\n",
    "rentals_aug_2005 = rentals_month(engine, 8, 2005)\n",
    "\n",
    "rental_counts_month_jul_2005_df = rental_count_month(rentals_jul_2005, 7, 2005)\n",
    "rental_counts_month_aug_2005_df = rental_count_month(rentals_aug_2005, 8, 2005)\n",
    "\n",
    "\n",
    "\n",
    "compared_rentals_df = compare_rentals(rental_counts_month_jul_2005_df, rental_counts_month_aug_2005_df)\n",
    "\n",
    "print(compared_rentals_df)\n",
    "\n"
   ]
  }
 ],
 "metadata": {
  "kernelspec": {
   "display_name": "Python 3",
   "language": "python",
   "name": "python3"
  },
  "language_info": {
   "codemirror_mode": {
    "name": "ipython",
    "version": 3
   },
   "file_extension": ".py",
   "mimetype": "text/x-python",
   "name": "python",
   "nbconvert_exporter": "python",
   "pygments_lexer": "ipython3",
   "version": "3.10.10"
  }
 },
 "nbformat": 4,
 "nbformat_minor": 2
}
